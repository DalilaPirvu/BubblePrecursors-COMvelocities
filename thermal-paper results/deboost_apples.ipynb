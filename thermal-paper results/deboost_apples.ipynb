{
 "cells": [
  {
   "cell_type": "markdown",
   "metadata": {},
   "source": [
    "## Deboost Bubbles"
   ]
  },
  {
   "cell_type": "code",
   "execution_count": 5,
   "metadata": {
    "tags": []
   },
   "outputs": [],
   "source": [
    "import os,sys\n",
    "sys.path.append('./bubbles_codes/')\n",
    "from plotting import *\n",
    "from bubble_tools import *\n",
    "from experiment import *\n"
   ]
  },
  {
   "cell_type": "code",
   "execution_count": 6,
   "metadata": {},
   "outputs": [
    {
     "name": "stdout",
     "output_type": "stream",
     "text": [
      "Looking at at lambda, T, phi0, m2, sigma: 1.5 0.12 1.3962634015954636 0.01 0.3571216688274275\n",
      "/gpfs/dpirvu/velocity_comparison/x1024_phi01.3963_lambda1.5000_T0.1200_minSim0_maxSim4000_up_to_nTMax5120_timedecays.npy\n",
      "Totalling: 27\n"
     ]
    }
   ],
   "source": [
    "tmp = 3\n",
    "phi0, temp, lamb, sigmafld, minSim, maxSim, right_Vmax = get_model(tmp)\n",
    "exp_params = np.asarray([nLat, lamb, phi0, temp])\n",
    "print('Looking at at lambda, T, phi0, m2, sigma:', lamb, temp, phi0, m2(lamb), sigmafld)\n",
    "\n",
    "amp_thresh  = right_Vmax.x + 2.*sigmafld\n",
    "crit_thresh = right_Vmax.x + 2.*sigmafld\n",
    "tv_thresh   = right_Vmax.x + 2.*sigmafld\n",
    "crit_rad    = 65\n",
    "\n",
    "path = decay_times_file(*exp_params, minSim, maxSim, nTimeMAX)\n",
    "if os.path.exists(path):\n",
    "    print(path)\n",
    "    decay_times = np.load(path)\n",
    "\n",
    "    minDecTime = nLat*2//3\n",
    "    alltimes   = decay_times[:,1]\n",
    "    simList2Do = decay_times[alltimes>=minDecTime, 0]\n",
    "\n",
    "    remain = []\n",
    "    for sim in simList2Do:\n",
    "        path2RESTsim = rest_sim_location(*exp_params, sim)\n",
    "        if not os.path.exists(path2RESTsim):\n",
    "            \n",
    "            path2CLEANsim = clean_sim_location(*exp_params, sim)\n",
    "            if os.path.exists(path2CLEANsim):\n",
    "                remain.append(sim)\n",
    "\n",
    "   # print('Remaining sims to compute:', remain)\n",
    "    print('Totalling:', len(remain))"
   ]
  },
  {
   "cell_type": "code",
   "execution_count": 7,
   "metadata": {},
   "outputs": [
    {
     "name": "stdout",
     "output_type": "stream",
     "text": [
      "27\n"
     ]
    }
   ],
   "source": [
    "if False:\n",
    "    np.save('./plots/leftover_sims_2do_'+batch_params(*exp_params), remain)\n",
    "\n",
    "remain2check = np.load('./plots/leftover_sims_2do_'+batch_params(*exp_params)+'.npy')\n",
    "print(len(remain2check))"
   ]
  },
  {
   "cell_type": "code",
   "execution_count": 20,
   "metadata": {},
   "outputs": [],
   "source": [
    "if True:\n",
    "    donelist = []\n",
    "    for sim in remain2check:\n",
    "        path2RESTsim = rest_sim_location(*exp_params, sim)\n",
    "        if os.path.exists(path2RESTsim):\n",
    "            print('Sim', sim)\n",
    "            sim, bubble, totbeta = np.load(path2RESTsim)\n",
    "            donelist.append(sim)\n",
    "            print('had total vel:', totbeta)\n",
    "\n",
    "            if True:\n",
    "                crit_rad = 50\n",
    "                crit_thresh = right_Vmax.x + 2.*sigmafld\n",
    "                win = 150\n",
    "\n",
    "                tcen, xcen = find_nucleation_center(bubble[0], phieq, crit_thresh, crit_rad)\n",
    "                nT, nN = np.shape(bubble[0])\n",
    "                tl,tr = max(0, tcen-win), min(nT-1, tcen+win)\n",
    "                xl,xr = max(0, xcen-win), min(nN-1, xcen+win)\n",
    "\n",
    "                fig, ax = plt.subplots(1, 1, figsize = (8, 5))\n",
    "                ext = [xl,xr,tl,tr]\n",
    "                im = plt.imshow(bubble[0,tl:tr,xl:xr], interpolation='none', extent=ext, origin='lower', cmap='RdBu')\n",
    "                clb = plt.colorbar(im, ax = ax)\n",
    "                plt.grid(True, ls='--', color='darkgray')\n",
    "                plt.title('Simulation '+str(sim))\n",
    "                plt.plot(xcen,tcen,'bo')\n",
    "                plt.xlabel('x'); plt.ylabel('t')\n",
    "                plt.show()\n"
   ]
  },
  {
   "cell_type": "code",
   "execution_count": 21,
   "metadata": {},
   "outputs": [],
   "source": [
    "for sim in [\n",
    "\n",
    "]:\n",
    "    path2RESTsim = rest_sim_location(*exp_params, sim)\n",
    "    if os.path.exists(path2RESTsim):\n",
    "        os.remove(path2RESTsim)"
   ]
  },
  {
   "cell_type": "code",
   "execution_count": 23,
   "metadata": {},
   "outputs": [],
   "source": [
    "if False:\n",
    "    for sim in remain:\n",
    "        path2CLEANsim = clean_sim_location(*exp_params, sim)\n",
    "        bubble, sim, tdecay, outcome = np.load(path2CLEANsim)\n",
    "        nC, nT, nN = np.shape(bubble)\n",
    "\n",
    "        fig, ax = plt.subplots(1, 1, figsize = (8, 5))\n",
    "        ext = [0, nN, 0, nT]\n",
    "        im  = plt.imshow(bubble[0], interpolation='none', extent=ext, origin='lower', cmap='RdBu')\n",
    "        clb = plt.colorbar(im, ax = ax)\n",
    "        plt.grid(True, ls='--', color='darkgray')\n",
    "        plt.title('Simulation '+str(sim))\n",
    "        plt.xlabel('x'); plt.ylabel('t')\n",
    "        plt.show()\n"
   ]
  },
  {
   "cell_type": "code",
   "execution_count": null,
   "metadata": {},
   "outputs": [],
   "source": [
    "for sim in []:\n",
    "    path2CLEANsim = clean_sim_location(*exp_params, sim)\n",
    "    if os.path.exists(path2CLEANsim):\n",
    "        print(path2CLEANsim)\n",
    "        os.remove(path2CLEANsim)"
   ]
  },
  {
   "cell_type": "code",
   "execution_count": 18,
   "metadata": {},
   "outputs": [
    {
     "name": "stdout",
     "output_type": "stream",
     "text": [
      "N =  41 simulations to deboost.\n",
      "Here we're deboosting the following sims: 0 41 [3392 3343  528 1953 1830 3739 3359 3019 2155 3881  402 2501 1360 3589\n",
      "  564 3311 2455 3853 2780  352 1165 3713 3150  280   41 1134 2904 1829\n",
      " 3892 2161 3464 2009 3719 2359 2963  416 3336 2336 2181 3118 3305]\n",
      "Looking at at lambda, T, phi0, m2, sigma: 1.5 0.09 1.3962634015954636 0.01 0.27428630597271203\n"
     ]
    }
   ],
   "source": [
    "aa=0\n",
    "div=2\n",
    "\n",
    "decay_times = np.load(decay_times_file(*exp_params, minSim, maxSim, nTimeMAX))\n",
    "done_sims   = np.array([sim for sim in decay_times[:,0] if os.path.exists(rest_sim_location(*exp_params, sim))])\n",
    "decay_times = np.array([decay_times[sind] for sind, ss in enumerate(decay_times[:,0]) if ss not in done_sims])\n",
    "\n",
    "minDecTime = nLat*2//3\n",
    "alltimes    = decay_times[:,1]\n",
    "simList2Do  = decay_times[alltimes>=minDecTime, 0]\n",
    "n2Do        = len(simList2Do)\n",
    "print('N = ', n2Do,'simulations to deboost.')\n",
    "\n",
    "ranges2Do   = np.array(np.linspace(0, n2Do, div), dtype='int')\n",
    "divdata     = np.asarray([(ii,jj) for ii,jj in zip(ranges2Do[:-1], ranges2Do[1:])])\n",
    "asim, bsim  = divdata[aa]\n",
    "\n",
    "ranList = simList2Do[asim : bsim]\n",
    "random.shuffle(ranList)\n",
    "print('Here we\\'re deboosting the following sims:', asim, bsim, ranList)\n",
    "\n",
    "threshm, threshM = right_Vmax.x + 0.3*sigmafld, right_Vmax.x + 2.*sigmafld\n",
    "ampList = np.linspace(threshm, threshM, 50)\n",
    "\n",
    "crit_rad = 50\n",
    "winsize  = int(crit_rad*2.5) #np.array(np.linspace(crit_rad*2, crit_rad*3, 5), dtype='int')\n",
    "crit_thresh = right_Vmax.x + 2.*sigmafld\n",
    "\n",
    "plots=True\n",
    "\n",
    "print('Looking at at lambda, T, phi0, m2, sigma:', lamb, temp, phi0, m2(lamb), sigmafld)\n"
   ]
  },
  {
   "cell_type": "code",
   "execution_count": 21,
   "metadata": {},
   "outputs": [],
   "source": [
    "%run 'bubbles_codes/bubble_tools.py'\n"
   ]
  },
  {
   "cell_type": "code",
   "execution_count": 1,
   "metadata": {},
   "outputs": [],
   "source": [
    "if True:\n",
    "    for sim in ranList[:1]:\n",
    "        print('Starting simulation, temp, lambda:', sim, temp, lamb)\n",
    "        path2CLEANsim = clean_sim_location(*exp_params, sim)\n",
    "        fullreal, sim, tdecay, outcome = np.load(path2CLEANsim)\n",
    "\n",
    "        fullreal = fullreal[:,-nLat:-nLat//4,nLat//4:-nLat//4] # this is to speed up the boosting\n",
    "        bubble = fullreal[:1]\n",
    "        \n",
    "        nC, nT, nN = np.shape(bubble)\n",
    "        simple_imshow(bubble[0], [0,nT,0,nN], 'Original')\n",
    "\n",
    "        maxwin = 200\n",
    "        tcen, xcen = find_nucleation_center(bubble[0], phieq, crit_thresh, crit_rad)\n",
    "        nC, nT, nN = np.shape(bubble)\n",
    "        tl,tr = max(0, tcen-maxwin), min(nT-1, tcen+maxwin)\n",
    "        xl,xr = max(0, xcen-maxwin), min(nN-1, xcen+maxwin)\n",
    "\n",
    "        fig, ax = plt.subplots(1, 1, figsize = (15, 6))\n",
    "        ext = [xl,xr,tl,tr]\n",
    "        im = plt.imshow(bubble[0,tl:tr,xl:xr], interpolation='none', extent=ext, origin='lower', cmap='Spectral')\n",
    "        clb = plt.colorbar(im, ax = ax)\n",
    "        plt.plot(xcen,tcen,'bo'); plt.xlabel('x'); plt.ylabel('t'); plt.show()\n",
    "\n",
    "        bool, vellist = True, []\n",
    "        beta = find_COM_vel(bubble, ampList, winsize, nLat, lightc, phieq, crit_thresh, crit_rad, 1., plots)\n",
    "        if np.isnan(beta):\n",
    "            print('Simulation, temp, lambda:', sim, temp, lamb, 'dead end at step 0.')\n",
    "            bool = False\n",
    "\n",
    "        while np.abs(beta) >= 0.03 and bool:\n",
    "\n",
    "            if len(vellist) > 0:\n",
    "                copy = fullreal[:1]\n",
    "                wcop = get_totvel_from_list(vellist)\n",
    "                copy = boost_bubble(copy, nLat, lightc, phieq, wcop, crit_thresh, crit_rad, normal)\n",
    "                vcop = find_COM_vel(copy, ampList, winsize, nLat, lightc, phieq, crit_thresh, crit_rad, 1., plots)\n",
    "                print('vcop, beta', vcop, beta)\n",
    "                if np.abs(vcop) < 0.03:\n",
    "                    beta = vcop\n",
    "                    break\n",
    "                if np.abs(vcop) > np.abs(vellist[-1]):\n",
    "                    beta = np.sign(beta) * 0.1\n",
    "\n",
    "            vellist.append(beta); print(vellist)\n",
    "\n",
    "            nC, nT, nN = np.shape(bubble)\n",
    "            simple_imshow(bubble[0], [0,nT,0,nN], 'Before')\n",
    "\n",
    "            bubble = boost_bubble(bubble, nLat, lightc, phieq, beta, crit_thresh, crit_rad, normal)\n",
    "            nC, nT, nN = np.shape(bubble)\n",
    "            simple_imshow(bubble[0], [0,nT,0,nN], 'After')\n",
    "\n",
    "            beta = find_COM_vel(bubble, ampList, winsize, nLat, lightc, phieq, crit_thresh, crit_rad, 1., plots)\n",
    "            if np.isnan(beta):\n",
    "                print('Simulation, temp, lambda:', sim, temp, lamb, ': dead end.')\n",
    "                bool = False\n",
    "\n",
    "        if bool:\n",
    "            print('Simulation, temp, lambda:', sim, temp, lamb, 'doing final step.')\n",
    "            vellist.append(beta)\n",
    "            totbeta  = get_totvel_from_list(vellist)\n",
    "\n",
    "            fullreal = boost_bubble(fullreal, nLat, lightc, phieq, totbeta, crit_thresh, crit_rad, normal)\n",
    "            nC, nT, nN = np.shape(fullreal)\n",
    "            simple_imshow(fullreal[0], [0,nT,0,nN], 'Final result')\n",
    "\n",
    "            fullreal = space_save(fullreal, lightc, phieq, crit_thresh, crit_rad, nLat)\n",
    "            nC, nT, nN = np.shape(fullreal)\n",
    "            simple_imshow(fullreal[0], [0,nT,0,nN], 'Final result shrinked')\n",
    "\n",
    "            path2RESTsim = rest_sim_location(*exp_params, sim)\n",
    "            np.save(path2RESTsim, np.array([sim, fullreal, totbeta]))\n",
    "            print('Saved. Total final velocity, vellist:', totbeta, vellist)\n",
    "\n",
    "    print('All Done.')\n"
   ]
  },
  {
   "cell_type": "code",
   "execution_count": 11,
   "metadata": {},
   "outputs": [],
   "source": [
    "if False:\n",
    "    ampList0 = np.linspace(phieq + 4.5*sigmafld, phieq + 5.*sigmafld, 1)\n",
    "    xList = np.arange(120, 2*crit_rad, 50)\n",
    "\n",
    "    path_clean_sim = clean_sim_location(nLat, lamb, phi0, temp, sim)\n",
    "    fullreal, sim, tdecay, outcome = np.load(path_clean_sim+'.npy')\n",
    "    bubble = np.asarray([fullreal[0, -nLat:]]) # this is to speed up the boosting\n",
    "\n",
    "    nC, nT, nN = np.shape(bubble)\n",
    "    real = bubble[0]\n",
    "    t_cen, x_centre = find_nucleation_center(real, phieq, crit_thresh, crit_rad)\n",
    "    t_max_width = find_t_max_width(real, lightc, phieq, crit_thresh, crit_rad, t_cen-nLat)\n",
    "    if t_cen > t_max_width:\n",
    "        t_cen = t_max_width\n",
    "\n",
    "    t_centre, x_centre = find_nucleation_center(real[:t_cen], phieq, crit_thresh, crit_rad)\n",
    "    t_stop = min(t_centre + crit_rad//2, t_max_width)\n",
    "    #if nLat > 1024 and temp == 0: real = gaussian_filter(real, 1., mode='nearest')\n",
    "\n",
    "    betas = np.zeros((len(ampList0), len(xList)))\n",
    "    for xx, x_size in enumerate(xList):\n",
    "        for vv, v_size in enumerate(ampList0):\n",
    "            vel_plots = True\n",
    "            betas[vv, xx] = get_COM_velocity(real, phieq, crit_thresh, crit_rad, t_cen, t_stop, v_size, x_size, dx2plot, vel_plots)"
   ]
  },
  {
   "cell_type": "code",
   "execution_count": 12,
   "metadata": {},
   "outputs": [],
   "source": [
    "if False:\n",
    "    path_sim = bubble_at_rest(nLat, lamb, phi0, temp, sim)\n",
    "    sim, fullreal, totbeta, beta = np.load(path_sim+'.npy')\n",
    "    bubble = np.asarray([fullreal[0, -nLat:]]) # this is to speed up the boosting\n",
    "\n",
    "    nC, nT, nN = np.shape(bubble)\n",
    "    real = bubble[0]\n",
    "    t_cen, x_centre = find_nucleation_center(real, phieq, crit_thresh, crit_rad)\n",
    "    t_max_width = find_t_max_width(real, lightc, phieq, crit_thresh, crit_rad, t_cen-nLat)\n",
    "    if t_cen > t_max_width:\n",
    "        t_cen = t_max_width\n",
    "\n",
    "    t_centre, x_centre = find_nucleation_center(real[:t_cen], phieq, crit_thresh, crit_rad)\n",
    "    t_stop = min(t_centre + crit_rad//2, t_max_width)\n",
    "    #if nLat > 1024 and temp == 0: real = gaussian_filter(real, 1., mode='nearest')\n",
    "\n",
    "    betas = np.zeros((len(ampList0), len(xList)))\n",
    "    for xx, x_size in enumerate(xList):\n",
    "        for vv, v_size in enumerate(ampList0):\n",
    "            vel_plots = True\n",
    "            betas[vv, xx] = get_COM_velocity(real, phieq, crit_thresh, crit_rad, t_cen, t_stop, v_size, x_size, dx2plot, vel_plots)\n"
   ]
  },
  {
   "cell_type": "code",
   "execution_count": null,
   "metadata": {},
   "outputs": [],
   "source": []
  },
  {
   "cell_type": "code",
   "execution_count": null,
   "metadata": {},
   "outputs": [],
   "source": []
  }
 ],
 "metadata": {
  "kernelspec": {
   "display_name": "Python 3.7 (module)",
   "language": "python",
   "name": "python37-module"
  },
  "language_info": {
   "codemirror_mode": {
    "name": "ipython",
    "version": 3
   },
   "file_extension": ".py",
   "mimetype": "text/x-python",
   "name": "python",
   "nbconvert_exporter": "python",
   "pygments_lexer": "ipython3",
   "version": "3.7.16"
  }
 },
 "nbformat": 4,
 "nbformat_minor": 4
}
