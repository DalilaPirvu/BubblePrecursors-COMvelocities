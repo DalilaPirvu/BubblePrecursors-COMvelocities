{
 "cells": [
  {
   "cell_type": "markdown",
   "metadata": {},
   "source": [
    "# Average Bubble"
   ]
  },
  {
   "cell_type": "code",
   "execution_count": 1,
   "metadata": {},
   "outputs": [],
   "source": [
    "%matplotlib inline"
   ]
  },
  {
   "cell_type": "code",
   "execution_count": 2,
   "metadata": {},
   "outputs": [],
   "source": [
    "import os,sys\n",
    "sys.path.append('/home/dpirvu/python_stuff/')\n",
    "sys.path.append('./bubbles_codes/')\n",
    "\n",
    "from plotting import *\n",
    "from bubble_tools import *\n",
    "from experiment import *\n"
   ]
  },
  {
   "cell_type": "code",
   "execution_count": 14,
   "metadata": {},
   "outputs": [],
   "source": [
    "indList = np.load('./data/list_of_crit_indices.npy')"
   ]
  },
  {
   "cell_type": "code",
   "execution_count": 4,
   "metadata": {},
   "outputs": [
    {
     "data": {
      "text/plain": [
       "array([], dtype=float64)"
      ]
     },
     "execution_count": 4,
     "metadata": {},
     "output_type": "execute_result"
    }
   ],
   "source": [
    "indList"
   ]
  },
  {
   "cell_type": "code",
   "execution_count": 5,
   "metadata": {
    "tags": []
   },
   "outputs": [],
   "source": [
    "indList+=1"
   ]
  },
  {
   "cell_type": "code",
   "execution_count": 6,
   "metadata": {},
   "outputs": [
    {
     "data": {
      "text/plain": [
       "array([], dtype=float64)"
      ]
     },
     "execution_count": 6,
     "metadata": {},
     "output_type": "execute_result"
    }
   ],
   "source": [
    "indList"
   ]
  },
  {
   "cell_type": "code",
   "execution_count": 7,
   "metadata": {},
   "outputs": [],
   "source": [
    "bubbleList, velocitesList, instantonList, tmpList, fldcritList, tcritList, encritList = [], [], [], [], [], [], []\n",
    "for tmp in [0,1,2,3]:\n",
    "    phi0, temp, lamb, sigmafld, minSim, maxSim, right_Vmax = get_model(tmp)\n",
    "    exp_params = np.asarray([nLat, lamb, phi0, temp])\n",
    "\n",
    "    bubbleList.append(np.load(average_file(*exp_params)))\n",
    "    velocitesList.append(np.load(velocities_file(*exp_params)))\n",
    "    instantonList.append(np.load(supercrit_instanton_file(*exp_params)))\n",
    "    tmpList.append(tmp)\n",
    "    fldcritList.append(np.load(critfield_file(*exp_params)))\n",
    "    tcritList.append(np.load(crittimes_file(*exp_params)))\n",
    "    encritList.append(np.load(critenerg_file(*exp_params)))\n"
   ]
  },
  {
   "cell_type": "code",
   "execution_count": 8,
   "metadata": {},
   "outputs": [],
   "source": [
    "%run 'bubbles_codes/plotting.py'"
   ]
  },
  {
   "cell_type": "code",
   "execution_count": 9,
   "metadata": {},
   "outputs": [],
   "source": [
    "def ax_opts(ax):\n",
    "    ax[0].axhline(phieq, color='darkgray', ls='--')\n",
    "    ax[0].axhline(2.*np.pi, color='darkgray', ls='--') \n",
    "    ax[1].axvline(phieq, color='darkgray', ls='--')\n",
    "    ax[1].axvline(2.*np.pi, color='darkgray', ls='--') \n",
    "    ax[0].yaxis.set_major_locator(plt.MultipleLocator(np.pi/2))\n",
    "    ax[0].yaxis.set_major_formatter(plt.FuncFormatter(multiple_formatter()))\n",
    "    ax[1].xaxis.set_major_locator(plt.MultipleLocator(np.pi/2))\n",
    "    ax[1].xaxis.set_major_formatter(plt.FuncFormatter(multiple_formatter()))\n",
    "    ax[0].set_xlabel(r'$r$')\n",
    "    ax[0].set_ylabel(r'$\\phi$')\n",
    "    ax[1].set_ylabel(r'$r$')\n",
    "    ax[1].set_xlabel(r'$\\phi$')\n",
    "    for axx in ax:\n",
    "        axx.legend()\n",
    "        axx.grid()\n",
    "    return ax"
   ]
  },
  {
   "cell_type": "code",
   "execution_count": 10,
   "metadata": {},
   "outputs": [],
   "source": [
    "allcolors = ['#377eb8', '#ff7f00', 'forestgreen', '#f781bf', '#a65628', '#984ea3', '#999999', '#e41a1c', '#dede00']\n"
   ]
  },
  {
   "cell_type": "code",
   "execution_count": 11,
   "metadata": {},
   "outputs": [
    {
     "name": "stderr",
     "output_type": "stream",
     "text": [
      "No artists with labels found to put in legend.  Note that artists whose label start with an underscore are ignored when legend() is called with no argument.\n",
      "No artists with labels found to put in legend.  Note that artists whose label start with an underscore are ignored when legend() is called with no argument.\n"
     ]
    },
    {
     "data": {
      "image/png": "[encoded data removed]",
      "text/plain": [
       "<Figure size 800x500 with 2 Axes>"
      ]
     },
     "metadata": {},
     "output_type": "display_data"
    }
   ],
   "source": [
    "# First, reconstruct potential from instanton solution to check units:\n",
    "\n",
    "fig, ax = plt.subplots(2, 1, figsize = (8, 5))\n",
    "col = allcolors[2]\n",
    "\n",
    "instanton = instantonList[0]\n",
    "xpeak  = np.argmax(instanton)+1\n",
    "data   = instanton[:xpeak]\n",
    "r      = np.linspace(0, xpeak, len(data))*dx\n",
    "\n",
    "phifv    = data\n",
    "dphidr   = np.gradient(phifv, dx)\n",
    "ddphiddr = np.gradient(dphidr, dx)\n",
    "\n",
    "# invert \\phi(r) into r(\\phi)\n",
    "rinv = np.zeros(phifv.shape)\n",
    "profile = intp.interp1d(r, phifv, kind='linear')\n",
    "diff = lambda x, a: (profile(x) - a)**2.\n",
    "for idx, x_value in enumerate(phifv):\n",
    "    res = sco.minimize_scalar(diff, args=(x_value), bounds=(min(r), max(r)), method='Bounded')\n",
    "    rinv[idx] = res.x\n",
    "\n",
    "# integrate product of derivatives above to get potential function of r\n",
    "dVdr = scp.interpolate.splrep(r, dphidr*ddphiddr)\n",
    "Vofrofphi = scp.interpolate.splev(rinv, scp.interpolate.splantider(dVdr, n=1))\n",
    "truereco = np.asarray([r, phifv, dphidr, ddphiddr, Vofrofphi])\n",
    "\n",
    "ax[0].plot(r,     data , color=col, marker='o', ms=2)\n",
    "ax[0].plot(r,     phifv, color=col)\n",
    "ax[1].plot(phifv, rinv , color=col)\n",
    "\n",
    "ax = ax_opts(ax)\n",
    "plt.show()"
   ]
  },
  {
   "cell_type": "code",
   "execution_count": null,
   "metadata": {},
   "outputs": [],
   "source": []
  },
  {
   "cell_type": "code",
   "execution_count": 13,
   "metadata": {},
   "outputs": [
    {
     "data": {
      "text/plain": [
       "array([], dtype=float64)"
      ]
     },
     "execution_count": 13,
     "metadata": {},
     "output_type": "execute_result"
    }
   ],
   "source": [
    "indList"
   ]
  },
  {
   "cell_type": "code",
   "execution_count": 12,
   "metadata": {},
   "outputs": [
    {
     "ename": "IndexError",
     "evalue": "index 0 is out of bounds for axis 0 with size 0",
     "output_type": "error",
     "traceback": [
      "\u001b[0;31m---------------------------------------------------------------------------\u001b[0m",
      "\u001b[0;31mIndexError\u001b[0m                                Traceback (most recent call last)",
      "\u001b[0;32m/tmp/ipykernel_825965/2098974921.py\u001b[0m in \u001b[0;36m<module>\u001b[0;34m\u001b[0m\n\u001b[1;32m      6\u001b[0m     \u001b[0mphi0\u001b[0m\u001b[0;34m,\u001b[0m \u001b[0mtemp\u001b[0m\u001b[0;34m,\u001b[0m \u001b[0mlamb\u001b[0m\u001b[0;34m,\u001b[0m \u001b[0msigmafld\u001b[0m\u001b[0;34m,\u001b[0m \u001b[0mminSim\u001b[0m\u001b[0;34m,\u001b[0m \u001b[0mmaxSim\u001b[0m\u001b[0;34m,\u001b[0m \u001b[0mright_Vmax\u001b[0m \u001b[0;34m=\u001b[0m \u001b[0mget_model\u001b[0m\u001b[0;34m(\u001b[0m\u001b[0mtmp\u001b[0m\u001b[0;34m)\u001b[0m\u001b[0;34m\u001b[0m\u001b[0;34m\u001b[0m\u001b[0m\n\u001b[1;32m      7\u001b[0m     \u001b[0mexp_params\u001b[0m \u001b[0;34m=\u001b[0m \u001b[0mnp\u001b[0m\u001b[0;34m.\u001b[0m\u001b[0masarray\u001b[0m\u001b[0;34m(\u001b[0m\u001b[0;34m[\u001b[0m\u001b[0mnLat\u001b[0m\u001b[0;34m,\u001b[0m \u001b[0mlamb\u001b[0m\u001b[0;34m,\u001b[0m \u001b[0mphi0\u001b[0m\u001b[0;34m,\u001b[0m \u001b[0mtemp\u001b[0m\u001b[0;34m]\u001b[0m\u001b[0;34m)\u001b[0m\u001b[0;34m\u001b[0m\u001b[0;34m\u001b[0m\u001b[0m\n\u001b[0;32m----> 8\u001b[0;31m     \u001b[0mindmin\u001b[0m \u001b[0;34m=\u001b[0m \u001b[0mint\u001b[0m\u001b[0;34m(\u001b[0m\u001b[0mindList\u001b[0m\u001b[0;34m[\u001b[0m\u001b[0mii\u001b[0m\u001b[0;34m]\u001b[0m\u001b[0;34m)\u001b[0m\u001b[0;34m\u001b[0m\u001b[0;34m\u001b[0m\u001b[0m\n\u001b[0m\u001b[1;32m      9\u001b[0m     \u001b[0mcol\u001b[0m \u001b[0;34m=\u001b[0m \u001b[0mnext\u001b[0m\u001b[0;34m(\u001b[0m\u001b[0mcols\u001b[0m\u001b[0;34m)\u001b[0m\u001b[0;34m\u001b[0m\u001b[0;34m\u001b[0m\u001b[0m\n\u001b[1;32m     10\u001b[0m \u001b[0;34m\u001b[0m\u001b[0m\n",
      "\u001b[0;31mIndexError\u001b[0m: index 0 is out of bounds for axis 0 with size 0"
     ]
    },
    {
     "data": {
      "image/png": "[encoded data removed]",
      "text/plain": [
       "<Figure size 600x500 with 2 Axes>"
      ]
     },
     "metadata": {},
     "output_type": "display_data"
    }
   ],
   "source": [
    "fig, ax = plt.subplots(2, 1, figsize = (6, 5))\n",
    "cols = cycle(allcolors)\n",
    "fvrecoList = []\n",
    "for ii, average_bubble in enumerate(bubbleList):\n",
    "    tmp = tmpList[ii]\n",
    "    phi0, temp, lamb, sigmafld, minSim, maxSim, right_Vmax = get_model(tmp)\n",
    "    exp_params = np.asarray([nLat, lamb, phi0, temp])\n",
    "    indmin = int(indList[ii])\n",
    "    col = next(cols)\n",
    "    \n",
    "    xmin = 100\n",
    "    data   = average_bubble[0,0,indmin,xmin:-xmin]\n",
    "\n",
    "    xpeak  = np.argmax(data)+1\n",
    "    data   = data[:xpeak]\n",
    "    r      = np.linspace(1, xpeak, len(data))*dx\n",
    "\n",
    "    phifv    = data\n",
    "    dphidr   = np.gradient(phifv, dx)\n",
    "    ddphiddr = np.gradient(dphidr, dx)\n",
    "\n",
    "    # invert \\phi(r) into r(\\phi)\n",
    "    rinv = np.zeros(phifv.shape)\n",
    "    profile = intp.interp1d(r, phifv, kind='linear')\n",
    "    diff = lambda x, a: (profile(x) - a)**2.\n",
    "    for idx, x_value in enumerate(phifv):\n",
    "        res = sco.minimize_scalar(diff, args=(x_value), bounds=(min(r), max(r)), method='Bounded')\n",
    "        rinv[idx] = res.x\n",
    "\n",
    "    # integrate product of derivatives above to get potential function of r\n",
    "    dVdr = scp.interpolate.splrep(r, dphidr*ddphiddr)\n",
    "    Vofrofphi = scp.interpolate.splev(rinv, scp.interpolate.splantider(dVdr, n=1))\n",
    "    fvrecoList.append(np.asarray([tmp, temp, lamb, phi0, r, phifv, dphidr, ddphiddr, Vofrofphi]))\n",
    "\n",
    "    labs = r'${}$'.format(round(temp/np.sqrt(m2(lamb)),1))\n",
    "    lsl = ('-' if tmp==1 else '--' if tmp==0 else ':' if tmp==2 else '-.')\n",
    "\n",
    "    ax[0].plot(r,     data , color=col, ls=lsl, marker='o', ms=2)\n",
    "    ax[0].plot(r,     phifv, color=col, ls=lsl, label=labs)\n",
    "    ax[1].plot(phifv, rinv , color=col, ls=lsl, label=labs)\n",
    "\n",
    "ax = ax_opts(ax)\n",
    "ax[0].legend(title=r'$T/m = $', frameon=False, bbox_to_anchor=(1, 1))\n",
    "ax[1].legend(title=r'$T/m = $', frameon=False, bbox_to_anchor=(1, 1))\n",
    "plt.show()"
   ]
  },
  {
   "cell_type": "code",
   "execution_count": null,
   "metadata": {},
   "outputs": [],
   "source": [
    "fig, ax = plt.subplots(2, 1, figsize = (6, 5))\n",
    "for ii, lists in enumerate(fvrecoList):\n",
    "    tmp, temp, lamb, phi0, r, phifv, dphidr, ddphiddr, Vofrofphi = lists\n",
    "\n",
    "    lsl = ('-' if tmp==1 else '--' if tmp==0 else ':' if tmp==2 else '-.')\n",
    "\n",
    "    ax[0].plot(r, phifv-phieq, 'r', ls=lsl, label=(f'$\\phi(r)$' if ii==0 else None))\n",
    "    ax[0].plot(r, dphidr     , 'b', ls=lsl, label=(f'$\\partial_r \\phi(r)$' if ii==0 else None))\n",
    "    ax[0].plot(r, ddphiddr   , 'g', ls=lsl, label=(f'$\\partial_r^2 \\phi(r)$' if ii==0 else None))\n",
    "    ax[1].plot(r, Vofrofphi  , 'g', ls=lsl, label=(f'$V(r)$' if ii==0 else None))\n",
    "\n",
    "for axx in ax: axx.set_xlabel(r'$r$'); axx.legend(frameon=False, bbox_to_anchor=(1, 0.8)); axx.grid()\n",
    "plt.show()\n"
   ]
  },
  {
   "cell_type": "markdown",
   "metadata": {},
   "source": [
    "# The Roll "
   ]
  },
  {
   "cell_type": "code",
   "execution_count": null,
   "metadata": {},
   "outputs": [],
   "source": [
    "fig, ax = plt.subplots(2, 1, figsize = (6, 5))\n",
    "cols = cycle(allcolors)\n",
    "\n",
    "rollrecoList = []\n",
    "for ii, average_bubble in enumerate(bubbleList):\n",
    "    tmp = tmpList[ii]\n",
    "    phi0, temp, lamb, sigmafld, minSim, maxSim, right_Vmax = get_model(tmp)\n",
    "    exp_params = np.asarray([nLat, lamb, phi0, temp])\n",
    "    indmin = int(indList[ii])\n",
    "    col = next(cols)\n",
    "\n",
    "    xpeak  = np.argmax(average_bubble[0,0,indmin])\n",
    "    data  = average_bubble[0,0][indmin:, xpeak]\n",
    "\n",
    "    tlist = np.linspace(0, len(data), len(data))*dx\n",
    "\n",
    "    tstop = np.argmax(data)+1\n",
    "    data  = data[:tstop+1]\n",
    "    rt    = tlist[:tstop+1]\n",
    "\n",
    "    phiroll  = data\n",
    "    dphidr   = np.gradient(phiroll, dx)\n",
    "    ddphiddr = np.gradient(dphidr, dx)\n",
    "\n",
    "    # invert \\phi(r) into r(\\phi)\n",
    "    tinv = np.zeros(phiroll.shape)\n",
    "    profile = intp.interp1d(rt, phiroll, kind='linear')\n",
    "    difft = lambda x, a: (profile(x) - a)**2.\n",
    "    for idx, x_value in enumerate(phiroll):\n",
    "        res = sco.minimize_scalar(difft, args=(x_value), bounds=(min(rt), max(rt)), method='Bounded')\n",
    "        tinv[idx] = res.x\n",
    "\n",
    "    dVdr = scp.interpolate.splrep(rt, - dphidr*ddphiddr)\n",
    "    Vofrofphi = scp.interpolate.splev(tinv, scp.interpolate.splantider(dVdr, n=1))\n",
    "    rollrecoList.append(np.asarray([tmp, temp, lamb, phi0, rt, phiroll, dphidr, ddphiddr, Vofrofphi]))\n",
    "\n",
    "    labs = r'${}$'.format(round(temp/np.sqrt(m2(lamb)),1))\n",
    "    lsl = ('-' if tmp==1 else '--' if tmp==0 else ':' if tmp==2 else '-.')\n",
    "\n",
    "    ax[0].plot(rt,      data , color=col, ls='None', marker='o', ms=2)\n",
    "    ax[0].plot(rt,      phiroll, color=col, ls=lsl, label=labs)\n",
    "    ax[1].plot(phiroll, tinv , color=col, ls=lsl, label=labs)\n",
    "\n",
    "ax = ax_opts(ax)\n",
    "ax[0].legend(title=r'$T/m = $', frameon=False, bbox_to_anchor=(1, 1))\n",
    "ax[1].legend(title=r'$T/m = $', frameon=False, bbox_to_anchor=(1, 1))\n",
    "plt.show()\n"
   ]
  },
  {
   "cell_type": "code",
   "execution_count": null,
   "metadata": {},
   "outputs": [],
   "source": [
    "fig, ax = plt.subplots(2, 1, figsize = (6, 5))\n",
    "for ii, lists in enumerate(rollrecoList):\n",
    "    tmp, temp, lamb, phi0, ts, phiroll, dphidr, ddphiddr, Vofrofphi = lists\n",
    "\n",
    "    lsl = ('-' if tmp==1 else '--' if tmp==0 else ':' if tmp==2 else '-.')\n",
    "\n",
    "    ax[0].plot(ts, phiroll-phieq               , 'r', ls=lsl, label=(f'$\\phi(r)$' if ii==0 else None))\n",
    "    ax[0].plot(ts, dphidr                      , 'b', ls=lsl, label=(f'$\\partial_r \\phi(r)$' if ii==0 else None))\n",
    "    ax[0].plot(ts, ddphiddr                    , 'g', ls=lsl, label=(f'$\\partial_r^2 \\phi(r)$' if ii==0 else None))\n",
    "    ax[1].plot(ts, Vofrofphi-np.mean(Vofrofphi), 'g', ls=lsl, label=(f'$V(r)$' if ii==0 else None))\n",
    "    ax[1].plot(ts, -dphidr*ddphiddr            , 'r', ls=lsl, label=(f'$d\\phi/drd^2\\phi/dr^2$' if ii==0 else None))\n",
    "\n",
    "for axx in ax: axx.set_xlabel(r'$r$'); axx.legend(frameon=False, bbox_to_anchor=(1, 1)); axx.grid()\n",
    "plt.show()"
   ]
  },
  {
   "cell_type": "markdown",
   "metadata": {},
   "source": [
    "# Full reconstruction"
   ]
  },
  {
   "cell_type": "code",
   "execution_count": null,
   "metadata": {},
   "outputs": [],
   "source": [
    "fullRec = []\n",
    "for ii in range(len(rollrecoList)):\n",
    "    tmp, temp, lamb, phi0, ts, phiroll, dphidr, ddphiddr, Vrollofrofphi = rollrecoList[ii]\n",
    "    tmp, temp, lamb, phi0, r, phifv, dphidr, ddphiddr, Vfvofrofphi = fvrecoList[ii]\n",
    "\n",
    "   # fullRec.append(np.asarray([np.concatenate((phifv, phiroll)), np.concatenate((Vfvofrofphi, Vrollofrofphi))-V(2.*np.pi, lamb)]))\n",
    "    fullRec.append(np.asarray([phifv, Vfvofrofphi-V(2.*np.pi, lamb)]))\n"
   ]
  },
  {
   "cell_type": "code",
   "execution_count": null,
   "metadata": {},
   "outputs": [],
   "source": [
    "def fit_to_V(x, lam, nuu, a):\n",
    "    return (-np.cos(x) + 0.5*lam**2. * np.sin(x)**2. + a) * nuu\n",
    "\n",
    "fig, ax = plt.subplots(1, 1, figsize = (9, 3))\n",
    "\n",
    "cols = cycle(allcolors)\n",
    "#extphi = np.linspace(phieq*0.8, 2.*np.pi*1.1, 100)\n",
    "extphi = np.linspace(phieq*0.96, phieq*1.55, 100)\n",
    "for ii in range(len(rollrecoList)+1):\n",
    "    #if ii==0: continue\n",
    "    col = next(cols)\n",
    "    lsl = ('-' if tmp==1 else '--' if tmp==0 else ':' if tmp==2 else '-.')\n",
    "\n",
    "    if ii==len(rollrecoList):\n",
    "        r, phifv, dphidr, ddphiddr, Vofrofphi = truereco\n",
    "        xlist = phifv\n",
    "        curve = Vofrofphi-V(2.*np.pi, lamb)\n",
    "        plt.plot(xlist, curve, ls=':', color='r', lw=5, alpha=0.5, label='Instanton Reconstruction')\n",
    "\n",
    "        popt, _ = scp.optimize.curve_fit(fit_to_V, xlist, curve)\n",
    "        spline  = scp.interpolate.splrep(extphi, fit_to_V(extphi, *popt))\n",
    "        seconder= scp.interpolate.splev(phieq, scp.interpolate.splder(spline, n=2))\n",
    "\n",
    "        plt.plot(extphi, fit_to_V(extphi, *popt), ls=':', color='r', \\\n",
    "                 label=r'$V(\\phi, \\lambda=%5.2f, m(\\lambda)=%5.3f, m=%5.3f)$'%(popt[0], (popt[1]*(-1.+popt[0]**2.))**0.5, seconder**0.5))\n",
    "    \n",
    "    else:\n",
    "        tmp, temp, lamb, phi0, ts, phiroll, dphidr, ddphiddr, Vrollofrofphi = rollrecoList[ii]\n",
    "        tmp, temp, lamb, phi0, r, phifv, dphidr, ddphiddr, Vfvofrofphi = fvrecoList[ii]\n",
    "    #    prediction = np.concatenate((V(phifv, lamb), V(phiroll, lamb))) - V(np.pi, lamb)\n",
    "    #    xlist = np.concatenate((phifv, phiroll))\n",
    "\n",
    "        prediction = V(phifv, lamb) - V(np.pi, lamb)\n",
    "        xlist = phifv\n",
    "        curve = fullRec[ii][1]\n",
    "\n",
    "        if ii==0:\n",
    "            plt.plot(xlist, prediction, ls='-', color='k', \\\n",
    "                     label='Bare potential: '+r'$\\lambda=%5.1f, m=%5.1f$'%(lamb, m2(lamb)**0.5))\n",
    "\n",
    "        plt.plot(xlist, curve, color=col, ls=lsl, lw=5, alpha=0.5)\n",
    "\n",
    "        popt, _ = scp.optimize.curve_fit(fit_to_V, xlist, curve)\n",
    "        spline  = scp.interpolate.splrep(extphi, fit_to_V(extphi, *popt))\n",
    "        seconder= scp.interpolate.splev(phieq, scp.interpolate.splder(spline, n=2))\n",
    "\n",
    "        plt.plot(extphi, fit_to_V(extphi, *popt), color=col, ls=lsl, \\\n",
    "                 label=r'$V(\\phi, \\lambda=%5.2f, m(\\lambda)=%5.3f, m=%5.3f)$'%(popt[0], (popt[1]*(-1.+popt[0]**2.))**0.5, seconder**0.5))\n",
    "\n",
    "plt.legend(frameon=False, bbox_to_anchor=(1, 1))\n",
    "plt.xlabel(r'$\\bar{\\varphi}$')\n",
    "plt.ylabel(r'$V(\\bar{\\varphi}; \\lambda, m) / \\varphi_0^{2}$')\n",
    "ax.xaxis.set_major_locator(plt.MultipleLocator(np.pi / 2))\n",
    "ax.xaxis.set_major_formatter(plt.FuncFormatter(multiple_formatter()))\n",
    "ax.grid(which='both', ls=':', color='lightgray', alpha=0.5)\n",
    "ax.tick_params(direction='in', which='both', top=True, right=True)\n",
    "ax.ticklabel_format(axis='y', style='scientific', scilimits=[0.,0.])\n",
    "ax.xaxis.set_label_coords(0.5, -0.13)\n",
    "ax.xaxis.set_label_coords(0.5, -0.13)\n",
    "plt.tight_layout()\n",
    "plt.savefig('./data/reconstructed_potential.pdf')\n",
    "plt.show()"
   ]
  },
  {
   "cell_type": "code",
   "execution_count": null,
   "metadata": {},
   "outputs": [],
   "source": []
  },
  {
   "cell_type": "code",
   "execution_count": null,
   "metadata": {},
   "outputs": [],
   "source": []
  }
 ],
 "metadata": {
  "kernelspec": {
   "display_name": "Python 3.7 (module)",
   "language": "python",
   "name": "python37-module"
  },
  "language_info": {
   "codemirror_mode": {
    "name": "ipython",
    "version": 3
   },
   "file_extension": ".py",
   "mimetype": "text/x-python",
   "name": "python",
   "nbconvert_exporter": "python",
   "pygments_lexer": "ipython3",
   "version": "3.7.16"
  }
 },
 "nbformat": 4,
 "nbformat_minor": 4
}
